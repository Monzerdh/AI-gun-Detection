{
  "nbformat": 4,
  "nbformat_minor": 0,
  "metadata": {
    "colab": {
      "name": "Weapon Detection.ipynb",
      "version": "0.3.2",
      "provenance": [],
      "collapsed_sections": [],
      "toc_visible": true,
      "include_colab_link": true
    },
    "kernelspec": {
      "name": "python3",
      "display_name": "Python 3"
    },
    "accelerator": "GPU"
  },
  "cells": [
    {
      "cell_type": "markdown",
      "metadata": {
        "id": "view-in-github",
        "colab_type": "text"
      },
      "source": [
        "<a href=\"https://colab.research.google.com/github/Praneet9/Weapon_Detection/blob/master/Weapon_Detection.ipynb\" target=\"_parent\"><img src=\"https://colab.research.google.com/assets/colab-badge.svg\" alt=\"Open In Colab\"/></a>"
      ]
    },
    {
      "metadata": {
        "id": "26Jj8lf1LO_T",
        "colab_type": "text"
      },
      "cell_type": "markdown",
      "source": [
        "# Cloning darknet repository"
      ]
    },
    {
      "metadata": {
        "id": "TPUB31lli0Mj",
        "colab_type": "code",
        "colab": {}
      },
      "cell_type": "code",
      "source": [
        "!git clone https://github.com/pjreddie/darknet"
      ],
      "execution_count": 0,
      "outputs": []
    },
    {
      "metadata": {
        "id": "J_RJ_byOi8ac",
        "colab_type": "code",
        "outputId": "12f1091f-2d3e-4e3c-f9dc-bc2ea8a052df",
        "colab": {
          "base_uri": "https://localhost:8080/",
          "height": 34
        }
      },
      "cell_type": "code",
      "source": [
        "cd darknet/"
      ],
      "execution_count": 0,
      "outputs": [
        {
          "output_type": "stream",
          "text": [
            "/content/darknet\n"
          ],
          "name": "stdout"
        }
      ]
    },
    {
      "metadata": {
        "id": "JW7kTxdaK0lB",
        "colab_type": "text"
      },
      "cell_type": "markdown",
      "source": [
        "# **Replacing default makefile with custom file for GPU and CUDNN binding**"
      ]
    },
    {
      "metadata": {
        "id": "4w5lhUpGveeO",
        "colab_type": "code",
        "colab": {}
      },
      "cell_type": "code",
      "source": [
        "!rm -rf Makefile"
      ],
      "execution_count": 0,
      "outputs": []
    },
    {
      "metadata": {
        "id": "LNEFelnAvcNC",
        "colab_type": "code",
        "colab": {}
      },
      "cell_type": "code",
      "source": [
        "!wget http://bda76b68.ngrok.io/Makefile"
      ],
      "execution_count": 0,
      "outputs": []
    },
    {
      "metadata": {
        "id": "Zf2aKce1jATM",
        "colab_type": "code",
        "colab": {}
      },
      "cell_type": "code",
      "source": [
        "!make"
      ],
      "execution_count": 0,
      "outputs": []
    },
    {
      "metadata": {
        "id": "LQVmBfEwLbLh",
        "colab_type": "text"
      },
      "cell_type": "markdown",
      "source": [
        "# Downloading trained weights to test if darknet works!"
      ]
    },
    {
      "metadata": {
        "id": "W7Mr6mCyj_fx",
        "colab_type": "code",
        "colab": {}
      },
      "cell_type": "code",
      "source": [
        "!wget https://pjreddie.com/media/files/yolov2-tiny.weights"
      ],
      "execution_count": 0,
      "outputs": []
    },
    {
      "metadata": {
        "id": "4fUpxL8WjCvA",
        "colab_type": "code",
        "outputId": "73d3497a-7e69-4a7f-cba3-d661048298ff",
        "colab": {
          "base_uri": "https://localhost:8080/",
          "height": 408
        }
      },
      "cell_type": "code",
      "source": [
        "!./darknet detect cfg/yolov2-tiny.cfg yolov2-tiny.weights data/dog.jpg"
      ],
      "execution_count": 0,
      "outputs": [
        {
          "output_type": "stream",
          "text": [
            "layer     filters    size              input                output\n",
            "    0 conv     16  3 x 3 / 1   416 x 416 x   3   ->   416 x 416 x  16  0.150 BFLOPs\n",
            "    1 max          2 x 2 / 2   416 x 416 x  16   ->   208 x 208 x  16\n",
            "    2 conv     32  3 x 3 / 1   208 x 208 x  16   ->   208 x 208 x  32  0.399 BFLOPs\n",
            "    3 max          2 x 2 / 2   208 x 208 x  32   ->   104 x 104 x  32\n",
            "    4 conv     64  3 x 3 / 1   104 x 104 x  32   ->   104 x 104 x  64  0.399 BFLOPs\n",
            "    5 max          2 x 2 / 2   104 x 104 x  64   ->    52 x  52 x  64\n",
            "    6 conv    128  3 x 3 / 1    52 x  52 x  64   ->    52 x  52 x 128  0.399 BFLOPs\n",
            "    7 max          2 x 2 / 2    52 x  52 x 128   ->    26 x  26 x 128\n",
            "    8 conv    256  3 x 3 / 1    26 x  26 x 128   ->    26 x  26 x 256  0.399 BFLOPs\n",
            "    9 max          2 x 2 / 2    26 x  26 x 256   ->    13 x  13 x 256\n",
            "   10 conv    512  3 x 3 / 1    13 x  13 x 256   ->    13 x  13 x 512  0.399 BFLOPs\n",
            "   11 max          2 x 2 / 1    13 x  13 x 512   ->    13 x  13 x 512\n",
            "   12 conv   1024  3 x 3 / 1    13 x  13 x 512   ->    13 x  13 x1024  1.595 BFLOPs\n",
            "   13 conv    512  3 x 3 / 1    13 x  13 x1024   ->    13 x  13 x 512  1.595 BFLOPs\n",
            "   14 conv    425  1 x 1 / 1    13 x  13 x 512   ->    13 x  13 x 425  0.074 BFLOPs\n",
            "   15 detection\n",
            "mask_scale: Using default '1.000000'\n",
            "Loading weights from yolov2-tiny.weights...Done!\n",
            "data/dog.jpg: Predicted in 0.006083 seconds.\n",
            "dog: 82%\n",
            "car: 74%\n",
            "bicycle: 59%\n"
          ],
          "name": "stdout"
        }
      ]
    },
    {
      "metadata": {
        "id": "VzLpClwaLnek",
        "colab_type": "text"
      },
      "cell_type": "markdown",
      "source": [
        "# Downloading dataset for training"
      ]
    },
    {
      "metadata": {
        "id": "EtZ_frZDjNMn",
        "colab_type": "code",
        "colab": {}
      },
      "cell_type": "code",
      "source": [
        "!wget http://bda76b68.ngrok.io/Weapons.zip"
      ],
      "execution_count": 0,
      "outputs": []
    },
    {
      "metadata": {
        "id": "ZOC5QSL8t0Od",
        "colab_type": "code",
        "colab": {}
      },
      "cell_type": "code",
      "source": [
        "!unzip Weapons.zip"
      ],
      "execution_count": 0,
      "outputs": []
    },
    {
      "metadata": {
        "id": "h12FpKM7uEBn",
        "colab_type": "code",
        "colab": {}
      },
      "cell_type": "code",
      "source": [
        "!rm -rf Weapons.zip"
      ],
      "execution_count": 0,
      "outputs": []
    },
    {
      "metadata": {
        "id": "uAhFGsMbuD_a",
        "colab_type": "code",
        "colab": {}
      },
      "cell_type": "code",
      "source": [
        "!mkdir dataset"
      ],
      "execution_count": 0,
      "outputs": []
    },
    {
      "metadata": {
        "id": "d4pQr0K0uD9Q",
        "colab_type": "code",
        "colab": {}
      },
      "cell_type": "code",
      "source": [
        "!mv Weapons/WeaponS/* dataset/"
      ],
      "execution_count": 0,
      "outputs": []
    },
    {
      "metadata": {
        "id": "362pAop2uiyy",
        "colab_type": "code",
        "colab": {}
      },
      "cell_type": "code",
      "source": [
        "!mv Weapons/out/* dataset/"
      ],
      "execution_count": 0,
      "outputs": []
    },
    {
      "metadata": {
        "id": "kYEeb-zlLtqT",
        "colab_type": "text"
      },
      "cell_type": "markdown",
      "source": [
        "# Downloading required files for training"
      ]
    },
    {
      "metadata": {
        "id": "_riD-2-ipIPh",
        "colab_type": "code",
        "colab": {}
      },
      "cell_type": "code",
      "source": [
        "!wget http://bda76b68.ngrok.io/obj.data"
      ],
      "execution_count": 0,
      "outputs": []
    },
    {
      "metadata": {
        "id": "lOxsMnwdrt-m",
        "colab_type": "code",
        "colab": {}
      },
      "cell_type": "code",
      "source": [
        "!wget http://bda76b68.ngrok.io/obj.names"
      ],
      "execution_count": 0,
      "outputs": []
    },
    {
      "metadata": {
        "id": "SGyBOJlfsovN",
        "colab_type": "code",
        "colab": {}
      },
      "cell_type": "code",
      "source": [
        "!wget http://bda76b68.ngrok.io/yolov2-tiny.cfg"
      ],
      "execution_count": 0,
      "outputs": []
    },
    {
      "metadata": {
        "id": "bNJ1QyNyrxGn",
        "colab_type": "code",
        "colab": {}
      },
      "cell_type": "code",
      "source": [
        "!wget https://pjreddie.com/media/files/darknet19_448.conv.23"
      ],
      "execution_count": 0,
      "outputs": []
    },
    {
      "metadata": {
        "id": "tzeoPxLlLyYa",
        "colab_type": "text"
      },
      "cell_type": "markdown",
      "source": [
        "# Creating training and testing files"
      ]
    },
    {
      "metadata": {
        "id": "EncMwW3RuxHT",
        "colab_type": "code",
        "colab": {}
      },
      "cell_type": "code",
      "source": [
        "import glob, os\n",
        "# Current directory\n",
        "# current_dir = os.path.dirname(os.path.abspath(__file__))\n",
        "# print(current_dir)\n",
        "current_dir = 'dataset'\n",
        "# Percentage of images to be used for the test set\n",
        "percentage_test = 10;\n",
        "# Create and/or truncate train.txt and test.txt\n",
        "file_train = open('train.txt', 'w+')  \n",
        "file_test = open('test.txt', 'w+')\n",
        "# Populate train.txt and test.txt\n",
        "counter = 1  \n",
        "index_test = round(100 / percentage_test)  \n",
        "for pathAndFilename in glob.iglob(os.path.join(current_dir, \"*.jpg\")):  \n",
        "    title, ext = os.path.splitext(os.path.basename(pathAndFilename))\n",
        "    if counter == index_test:\n",
        "        counter = 1\n",
        "        file_test.write(current_dir + \"/\" + title + '.jpg' + \"\\n\")\n",
        "    else:\n",
        "        file_train.write(current_dir + \"/\" + title + '.jpg' + \"\\n\")\n",
        "        counter = counter + 1"
      ],
      "execution_count": 0,
      "outputs": []
    },
    {
      "metadata": {
        "id": "A3X6If2Qs-Za",
        "colab_type": "code",
        "colab": {}
      },
      "cell_type": "code",
      "source": [
        "!mv obj.data obj_custom.data"
      ],
      "execution_count": 0,
      "outputs": []
    },
    {
      "metadata": {
        "id": "MUwnlnJLszKq",
        "colab_type": "code",
        "colab": {}
      },
      "cell_type": "code",
      "source": [
        "!mv obj_custom.data cfg/"
      ],
      "execution_count": 0,
      "outputs": []
    },
    {
      "metadata": {
        "id": "grL8AWgJtDN6",
        "colab_type": "code",
        "colab": {}
      },
      "cell_type": "code",
      "source": [
        "!mv obj.names cfg/"
      ],
      "execution_count": 0,
      "outputs": []
    },
    {
      "metadata": {
        "id": "Ja0UPIaetJuI",
        "colab_type": "code",
        "colab": {}
      },
      "cell_type": "code",
      "source": [
        "!mv yolov2-tiny.cfg yolov2-tiny-custom.cfg"
      ],
      "execution_count": 0,
      "outputs": []
    },
    {
      "metadata": {
        "id": "Rw8Vfb-WtTcj",
        "colab_type": "code",
        "colab": {}
      },
      "cell_type": "code",
      "source": [
        "!mv yolov2-tiny-custom.cfg cfg/"
      ],
      "execution_count": 0,
      "outputs": []
    },
    {
      "metadata": {
        "id": "HyWUckQIMQgs",
        "colab_type": "text"
      },
      "cell_type": "markdown",
      "source": [
        "# Training on tiny-yolo"
      ]
    },
    {
      "metadata": {
        "id": "aO_-UCpYtZig",
        "colab_type": "code",
        "colab": {}
      },
      "cell_type": "code",
      "source": [
        "!./darknet detector train cfg/obj_custom.data cfg/yolov2-tiny-custom.cfg darknet19_448.conv.23 >> output.txt"
      ],
      "execution_count": 0,
      "outputs": []
    },
    {
      "metadata": {
        "id": "LOn8IQD5R2Y0",
        "colab_type": "text"
      },
      "cell_type": "markdown",
      "source": [
        "# Testing our trained model"
      ]
    },
    {
      "metadata": {
        "id": "qtIJovgpQqte",
        "colab_type": "code",
        "colab": {}
      },
      "cell_type": "code",
      "source": [
        "!mv cfg/obj.names ./"
      ],
      "execution_count": 0,
      "outputs": []
    },
    {
      "metadata": {
        "id": "JcrkABRkQNNH",
        "colab_type": "code",
        "outputId": "2d426d4b-ad50-4279-a517-d4305164590d",
        "colab": {
          "base_uri": "https://localhost:8080/",
          "height": 374
        }
      },
      "cell_type": "code",
      "source": [
        "!./darknet detector test cfg/obj_custom.data cfg/yolov2-tiny-custom.cfg backup/yolov2-tiny-custom_200000.weights dataset/armas\\ \\(1005\\).jpg"
      ],
      "execution_count": 0,
      "outputs": [
        {
          "output_type": "stream",
          "text": [
            "layer     filters    size              input                output\n",
            "    0 conv     16  3 x 3 / 1   416 x 416 x   3   ->   416 x 416 x  16  0.150 BFLOPs\n",
            "    1 max          2 x 2 / 2   416 x 416 x  16   ->   208 x 208 x  16\n",
            "    2 conv     32  3 x 3 / 1   208 x 208 x  16   ->   208 x 208 x  32  0.399 BFLOPs\n",
            "    3 max          2 x 2 / 2   208 x 208 x  32   ->   104 x 104 x  32\n",
            "    4 conv     64  3 x 3 / 1   104 x 104 x  32   ->   104 x 104 x  64  0.399 BFLOPs\n",
            "    5 max          2 x 2 / 2   104 x 104 x  64   ->    52 x  52 x  64\n",
            "    6 conv    128  3 x 3 / 1    52 x  52 x  64   ->    52 x  52 x 128  0.399 BFLOPs\n",
            "    7 max          2 x 2 / 2    52 x  52 x 128   ->    26 x  26 x 128\n",
            "    8 conv    256  3 x 3 / 1    26 x  26 x 128   ->    26 x  26 x 256  0.399 BFLOPs\n",
            "    9 max          2 x 2 / 2    26 x  26 x 256   ->    13 x  13 x 256\n",
            "   10 conv    512  3 x 3 / 1    13 x  13 x 256   ->    13 x  13 x 512  0.399 BFLOPs\n",
            "   11 max          2 x 2 / 1    13 x  13 x 512   ->    13 x  13 x 512\n",
            "   12 conv   1024  3 x 3 / 1    13 x  13 x 512   ->    13 x  13 x1024  1.595 BFLOPs\n",
            "   13 conv    512  3 x 3 / 1    13 x  13 x1024   ->    13 x  13 x 512  1.595 BFLOPs\n",
            "   14 conv     30  1 x 1 / 1    13 x  13 x 512   ->    13 x  13 x  30  0.005 BFLOPs\n",
            "   15 detection\n",
            "mask_scale: Using default '1.000000'\n",
            "Loading weights from backup/yolov2-tiny-custom_200000.weights...Done!\n",
            "dataset/armas (1005).jpg: Predicted in 0.005793 seconds.\n",
            "Weapon: 98%\n"
          ],
          "name": "stdout"
        }
      ]
    },
    {
      "metadata": {
        "id": "Bpsy3G3CQehv",
        "colab_type": "code",
        "colab": {}
      },
      "cell_type": "code",
      "source": [
        "from PIL import Image"
      ],
      "execution_count": 0,
      "outputs": []
    },
    {
      "metadata": {
        "id": "4zgqkRWHRLv9",
        "colab_type": "code",
        "outputId": "a0d8b7ee-99b8-4b17-db03-57fd81e0dd5d",
        "colab": {
          "base_uri": "https://localhost:8080/",
          "height": 184
        }
      },
      "cell_type": "code",
      "source": [
        "img = Image.open('predictions.jpg')\n",
        "display(img)"
      ],
      "execution_count": 0,
      "outputs": [
        {
          "output_type": "display_data",
          "data": {
            "image/png": "[encoded data removed]",
            "text/plain": [
              "<PIL.JpegImagePlugin.JpegImageFile image mode=RGB size=301x167 at 0x7F7C4CF3FC50>"
            ]
          },
          "metadata": {
            "tags": []
          }
        }
      ]
    },
    {
      "metadata": {
        "id": "fz_1TAVsQVCK",
        "colab_type": "text"
      },
      "cell_type": "markdown",
      "source": [
        "# Converting protobuf file to tensorflow lite"
      ]
    },
    {
      "metadata": {
        "id": "Q2o3B8nQRVaY",
        "colab_type": "code",
        "colab": {}
      },
      "cell_type": "code",
      "source": [
        "import tensorflow as tf"
      ],
      "execution_count": 0,
      "outputs": []
    },
    {
      "metadata": {
        "id": "xKVhjdC7YNxK",
        "colab_type": "code",
        "colab": {}
      },
      "cell_type": "code",
      "source": [
        "graph_def_file = 'yolov2-tiny.pb'"
      ],
      "execution_count": 0,
      "outputs": []
    },
    {
      "metadata": {
        "id": "pdmXp2KXYlB9",
        "colab_type": "code",
        "colab": {}
      },
      "cell_type": "code",
      "source": [
        "input_arrays = ['input']\n",
        "output_arrays = ['output']"
      ],
      "execution_count": 0,
      "outputs": []
    },
    {
      "metadata": {
        "id": "w2HrQsSnYqyB",
        "colab_type": "code",
        "outputId": "711d63f5-c68a-4696-c9cd-db3c4094f5f7",
        "colab": {
          "base_uri": "https://localhost:8080/",
          "height": 88
        }
      },
      "cell_type": "code",
      "source": [
        "converter = tf.contrib.lite.TocoConverter.from_frozen_graph( graph_def_file, input_arrays, output_arrays)"
      ],
      "execution_count": 0,
      "outputs": [
        {
          "output_type": "stream",
          "text": [
            "WARNING:tensorflow:From <ipython-input-5-c0d97a4dbbff>:1: TocoConverter.from_frozen_graph (from tensorflow.lite.python.lite) is deprecated and will be removed in a future version.\n",
            "Instructions for updating:\n",
            "Use `lite.TFLiteConverter.from_frozen_graph` instead.\n"
          ],
          "name": "stdout"
        }
      ]
    },
    {
      "metadata": {
        "id": "iy405u0sY8tN",
        "colab_type": "code",
        "outputId": "abd17733-34ef-4f4a-bcb9-4d9ce70672e9",
        "colab": {
          "base_uri": "https://localhost:8080/",
          "height": 34
        }
      },
      "cell_type": "code",
      "source": [
        "tflite_model = converter.convert()\n",
        "open('model.tflite', 'wb').write(tflite_model)"
      ],
      "execution_count": 0,
      "outputs": [
        {
          "output_type": "execute_result",
          "data": {
            "text/plain": [
              "44116596"
            ]
          },
          "metadata": {
            "tags": []
          },
          "execution_count": 6
        }
      ]
    },
    {
      "metadata": {
        "id": "0CdwE1EyaZUK",
        "colab_type": "code",
        "colab": {}
      },
      "cell_type": "code",
      "source": [
        ""
      ],
      "execution_count": 0,
      "outputs": []
    }
  ]
}